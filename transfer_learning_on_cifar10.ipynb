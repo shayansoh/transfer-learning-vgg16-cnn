{
  "nbformat": 4,
  "nbformat_minor": 0,
  "metadata": {
    "colab": {
      "name": "transfer-learning-on-cifar10.ipynb",
      "provenance": [],
      "collapsed_sections": [],
      "authorship_tag": "ABX9TyNltFG3YJ1RKfZW+TSXFObD",
      "include_colab_link": true
    },
    "kernelspec": {
      "name": "python3",
      "display_name": "Python 3"
    },
    "language_info": {
      "name": "python"
    },
    "accelerator": "GPU"
  },
  "cells": [
    {
      "cell_type": "markdown",
      "metadata": {
        "id": "view-in-github",
        "colab_type": "text"
      },
      "source": [
        "<a href=\"https://colab.research.google.com/github/shayansoh/transfer-learning-vgg16-cnn/blob/main/transfer_learning_on_cifar10.ipynb\" target=\"_parent\"><img src=\"https://colab.research.google.com/assets/colab-badge.svg\" alt=\"Open In Colab\"/></a>"
      ]
    },
    {
      "cell_type": "markdown",
      "metadata": {
        "id": "jGrt-Lltg2gU"
      },
      "source": [
        "## CIFAR10 Classification using Transfer Learning"
      ]
    },
    {
      "cell_type": "code",
      "metadata": {
        "id": "A_KvlJmkg_gJ"
      },
      "source": [
        "import numpy as np\n",
        "import pandas as pd\n",
        "import matplotlib.pyplot as plt\n",
        "import seaborn as sns\n",
        "import torch\n",
        "import torch.nn as nn\n",
        "import torch.nn.functional as F\n",
        "import torchvision\n",
        "from torchvision import datasets, transforms, models\n",
        "import torch.optim as optim\n",
        "from tqdm import tqdm"
      ],
      "execution_count": null,
      "outputs": []
    },
    {
      "cell_type": "code",
      "metadata": {
        "colab": {
          "base_uri": "https://localhost:8080/"
        },
        "id": "klyVr3e7hMaZ",
        "outputId": "e06b3666-539f-491b-a1a6-49b16a0a324e"
      },
      "source": [
        "device = torch.device(\"cuda\" if torch.cuda.is_available() else \"cpu\")\n",
        "print(device)"
      ],
      "execution_count": null,
      "outputs": [
        {
          "output_type": "stream",
          "text": [
            "cuda\n"
          ],
          "name": "stdout"
        }
      ]
    },
    {
      "cell_type": "markdown",
      "metadata": {
        "id": "-0_5WJnlhovt"
      },
      "source": [
        "## 1.0 Importing the Dataset"
      ]
    },
    {
      "cell_type": "code",
      "metadata": {
        "colab": {
          "base_uri": "https://localhost:8080/"
        },
        "id": "7HvtRJmmhREq",
        "outputId": "fcbfa051-78d2-4076-a861-db8d9ce4e461"
      },
      "source": [
        "transform = transforms.Compose([\n",
        "                                transforms.Resize(size=(224, 224)),\n",
        "                                transforms.ToTensor(),\n",
        "                                transforms.Normalize( \n",
        "                                    (0.4914, 0.4822, 0.4465), (0.247, 0.243, 0.261) \n",
        "                                    )\n",
        "])                                \n",
        "\n",
        "train_dataset = datasets.CIFAR10(\n",
        "    root= './data', train = True, download =True, \n",
        "    transform = transform)\n",
        "\n",
        "test_dataset = datasets.CIFAR10(\n",
        "    root= './data', train = False, download =True, \n",
        "    transform = transform)"
      ],
      "execution_count": null,
      "outputs": [
        {
          "output_type": "stream",
          "text": [
            "Files already downloaded and verified\n",
            "Files already downloaded and verified\n"
          ],
          "name": "stdout"
        }
      ]
    },
    {
      "cell_type": "code",
      "metadata": {
        "id": "gozcMgthjMft"
      },
      "source": [
        "# preparing train/test loaders and dividing into batches\n",
        "batch_size = 32\n",
        "train_loader = torch.utils.data.DataLoader(train_dataset, \n",
        "                                           batch_size = batch_size, \n",
        "                                           shuffle = True)\n",
        "\n",
        "test_loader = torch.utils.data.DataLoader(test_dataset, \n",
        "                                          batch_size = batch_size, \n",
        "                                          shuffle = True)\n",
        "n_total_step = len(train_loader)"
      ],
      "execution_count": null,
      "outputs": []
    },
    {
      "cell_type": "markdown",
      "metadata": {
        "id": "z5DNg9RulxQb"
      },
      "source": [
        "## 2.0: Loading Pre-Trained VGG16 Model"
      ]
    },
    {
      "cell_type": "code",
      "metadata": {
        "id": "y1DZHs4Fjnkz"
      },
      "source": [
        "# model import and changing to 10 classes\n",
        "model = models.vgg16(pretrained = True)\n",
        "model.classifier[6].out_features = 10\n",
        "\n",
        "# freezing weights since pre-trained\n",
        "for w in model.features.parameters():\n",
        "  w.requires_grad = False\n",
        "\n",
        "# optimizer\n",
        "optimizer = optim.SGD(model.classifier.parameters(), lr=0.001, momentum=0.9, weight_decay=5e-4)\n",
        "\n",
        "# loss function\n",
        "loss_fn = nn.CrossEntropyLoss()"
      ],
      "execution_count": null,
      "outputs": []
    },
    {
      "cell_type": "markdown",
      "metadata": {
        "id": "LQ0IjOO6xxc6"
      },
      "source": [
        "## 3.0 Training and Validation Loop"
      ]
    },
    {
      "cell_type": "code",
      "metadata": {
        "id": "-oTipr4YmD1U"
      },
      "source": [
        "# training loop\n",
        "def fit(model, train_loader):\n",
        "    model.train()\n",
        "    running_loss = 0\n",
        "    corr_target = 0\n",
        "    for i, data in enumerate(train_loader):\n",
        "        data, target = data[0].to(device), data[1].to(device)\n",
        "        optimizer.zero_grad()\n",
        "        output = model(data)\n",
        "        loss = loss_fn(output, target)\n",
        "        running_loss += loss.item()\n",
        "        _, preds = torch.max(output.data, 1)\n",
        "        corr_target += (preds == target).sum().item()\n",
        "        loss.backward()\n",
        "        optimizer.step()\n",
        "    train_loss = running_loss / len(train_loader.dataset)\n",
        "    train_accuracy = corr_target / len(train_loader.dataset)\n",
        "    print(f'Train Loss: {train_loss:.4f}, Train Accuracy: {train_accuracy:.2%}')\n",
        "    \n",
        "    return train_loss, train_accuracy\n",
        "\n",
        "# validation function (no backprop)\n",
        "def predict(model, test_loader):\n",
        "    model.eval()\n",
        "    running_loss = 0.0\n",
        "    corr_target = 0\n",
        "    for int, data in enumerate(test_loader):\n",
        "        data, target = data[0].to(device), data[1].to(device)\n",
        "        output = model(data)\n",
        "        loss = loss_fn(output, target)\n",
        "        running_loss += loss.item()\n",
        "        _, preds = torch.max(output.data, 1)\n",
        "        corr_target += (preds == target).sum().item()\n",
        "    \n",
        "    val_loss = running_loss / len(test_loader.dataset)\n",
        "    val_accuracy = corr_target / len(test_loader.dataset)\n",
        "    \n",
        "    return val_loss, (val_accuracy * 100)"
      ],
      "execution_count": null,
      "outputs": []
    },
    {
      "cell_type": "code",
      "metadata": {
        "colab": {
          "base_uri": "https://localhost:8080/"
        },
        "id": "kQP1zElN2LA6",
        "outputId": "4f23d0b3-727f-4441-9361-a9b142a6ae72"
      },
      "source": [
        "# training step\n",
        "if torch.cuda.is_available():\n",
        "    model.cuda()\n",
        "\n",
        "train_loss , train_acc = [], []\n",
        "test_loss , test_acc = [], []\n",
        "epoch = 11\n",
        "for epoch in tqdm(range(epoch)):\n",
        "    train_epoch_loss, train_epoch_acc = fit(model, train_loader)\n",
        "    test_epoch_loss, test_epoch_acc = predict(model, test_loader)\n",
        "    train_loss.append(train_epoch_loss)\n",
        "    train_acc.append(train_epoch_acc)\n",
        "    test_loss.append(test_epoch_loss)\n",
        "    test_acc.append(test_epoch_acc)"
      ],
      "execution_count": null,
      "outputs": [
        {
          "output_type": "stream",
          "text": [
            "\r  0%|          | 0/11 [00:00<?, ?it/s]/usr/local/lib/python3.7/dist-packages/torch/nn/functional.py:718: UserWarning: Named tensors and all their associated APIs are an experimental feature and subject to change. Please do not use them for anything important until they are released as stable. (Triggered internally at  /pytorch/c10/core/TensorImpl.h:1156.)\n",
            "  return torch.max_pool2d(input, kernel_size, stride, padding, dilation, ceil_mode)\n"
          ],
          "name": "stderr"
        },
        {
          "output_type": "stream",
          "text": [
            "Train Loss: 0.0229, Train Accuracy: 77.04%\n"
          ],
          "name": "stdout"
        },
        {
          "output_type": "stream",
          "text": [
            "\r  9%|▉         | 1/11 [05:58<59:48, 358.84s/it]"
          ],
          "name": "stderr"
        },
        {
          "output_type": "stream",
          "text": [
            "Train Loss: 0.0122, Train Accuracy: 86.23%\n"
          ],
          "name": "stdout"
        },
        {
          "output_type": "stream",
          "text": [
            "\r 18%|█▊        | 2/11 [11:57<53:48, 358.71s/it]"
          ],
          "name": "stderr"
        },
        {
          "output_type": "stream",
          "text": [
            "Train Loss: 0.0093, Train Accuracy: 89.69%\n"
          ],
          "name": "stdout"
        },
        {
          "output_type": "stream",
          "text": [
            "\r 27%|██▋       | 3/11 [17:56<47:50, 358.75s/it]"
          ],
          "name": "stderr"
        },
        {
          "output_type": "stream",
          "text": [
            "Train Loss: 0.0070, Train Accuracy: 92.08%\n"
          ],
          "name": "stdout"
        },
        {
          "output_type": "stream",
          "text": [
            "\r 36%|███▋      | 4/11 [23:54<41:51, 358.73s/it]"
          ],
          "name": "stderr"
        },
        {
          "output_type": "stream",
          "text": [
            "Train Loss: 0.0052, Train Accuracy: 94.15%\n"
          ],
          "name": "stdout"
        },
        {
          "output_type": "stream",
          "text": [
            "\r 45%|████▌     | 5/11 [29:53<35:53, 358.83s/it]"
          ],
          "name": "stderr"
        },
        {
          "output_type": "stream",
          "text": [
            "Train Loss: 0.0038, Train Accuracy: 95.80%\n"
          ],
          "name": "stdout"
        },
        {
          "output_type": "stream",
          "text": [
            "\r 55%|█████▍    | 6/11 [35:53<29:56, 359.21s/it]"
          ],
          "name": "stderr"
        },
        {
          "output_type": "stream",
          "text": [
            "Train Loss: 0.0027, Train Accuracy: 97.22%\n"
          ],
          "name": "stdout"
        },
        {
          "output_type": "stream",
          "text": [
            "\r 64%|██████▎   | 7/11 [41:52<23:56, 359.08s/it]"
          ],
          "name": "stderr"
        },
        {
          "output_type": "stream",
          "text": [
            "Train Loss: 0.0019, Train Accuracy: 98.06%\n"
          ],
          "name": "stdout"
        },
        {
          "output_type": "stream",
          "text": [
            "\r 73%|███████▎  | 8/11 [47:50<17:56, 358.74s/it]"
          ],
          "name": "stderr"
        },
        {
          "output_type": "stream",
          "text": [
            "Train Loss: 0.0013, Train Accuracy: 98.74%\n"
          ],
          "name": "stdout"
        },
        {
          "output_type": "stream",
          "text": [
            "\r 82%|████████▏ | 9/11 [53:47<11:56, 358.21s/it]"
          ],
          "name": "stderr"
        },
        {
          "output_type": "stream",
          "text": [
            "Train Loss: 0.0011, Train Accuracy: 99.02%\n"
          ],
          "name": "stdout"
        },
        {
          "output_type": "stream",
          "text": [
            "\r 91%|█████████ | 10/11 [59:44<05:57, 357.92s/it]"
          ],
          "name": "stderr"
        },
        {
          "output_type": "stream",
          "text": [
            "Train Loss: 0.0008, Train Accuracy: 99.35%\n"
          ],
          "name": "stdout"
        },
        {
          "output_type": "stream",
          "text": [
            "100%|██████████| 11/11 [1:05:42<00:00, 358.45s/it]\n"
          ],
          "name": "stderr"
        }
      ]
    },
    {
      "cell_type": "code",
      "metadata": {
        "colab": {
          "base_uri": "https://localhost:8080/",
          "height": 265
        },
        "id": "DcFpkCKEPueO",
        "outputId": "1c0d2940-8e5b-407b-c225-6e380adf16f1"
      },
      "source": [
        "plt.plot(train_loss, color='b', label='train loss')\n",
        "plt.plot(test_loss, color='r', label='test loss')\n",
        "plt.legend()\n",
        "plt.show()"
      ],
      "execution_count": null,
      "outputs": [
        {
          "output_type": "display_data",
          "data": {
            "image/png": "[encoded data removed]",
            "text/plain": [
              "<Figure size 432x288 with 1 Axes>"
            ]
          },
          "metadata": {
            "tags": [],
            "needs_background": "light"
          }
        }
      ]
    },
    {
      "cell_type": "code",
      "metadata": {
        "colab": {
          "base_uri": "https://localhost:8080/",
          "height": 265
        },
        "id": "ZkNVDrY1305P",
        "outputId": "d3bb9d9a-29bf-4027-e59d-22d674e93efc"
      },
      "source": [
        "plt.plot([x * 100 for x in train_acc], color='b', label='train accuracy')\n",
        "plt.plot(test_acc, color='r', label='test accuracy')\n",
        "plt.legend()\n",
        "plt.show()"
      ],
      "execution_count": null,
      "outputs": [
        {
          "output_type": "display_data",
          "data": {
            "image/png": "[encoded data removed]",
            "text/plain": [
              "<Figure size 432x288 with 1 Axes>"
            ]
          },
          "metadata": {
            "tags": [],
            "needs_background": "light"
          }
        }
      ]
    },
    {
      "cell_type": "code",
      "metadata": {
        "id": "w9pjtKoQRGqN"
      },
      "source": [
        ""
      ],
      "execution_count": null,
      "outputs": []
    }
  ]
}